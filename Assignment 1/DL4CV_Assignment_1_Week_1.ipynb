{
 "cells": [
  {
   "cell_type": "markdown",
   "metadata": {
    "id": "Cn7D-8jhVXb8"
   },
   "source": [
    "#### **Welcome to Assignment 1 on Deep Learning for Computer Vision.**\n",
    "\n",
    "#### **Instructions**\n",
    "1. Use Python 3.x to run this notebook\n",
    "3. Write your code only in between the lines 'YOUR CODE STARTS HERE' and 'YOUR CODE ENDS HERE'.\n",
    "you sould not change anything else code cells, if you do, the answers you are supposed to get at the end of this assignment might be wrong.\n",
    "4. Read documentation of each function carefully."
   ]
  },
  {
   "cell_type": "code",
   "execution_count": null,
   "metadata": {
    "id": "5cBkBgHUVcKC"
   },
   "outputs": [],
   "source": [
    "import numpy as np\n",
    "import matplotlib.pyplot as plt\n",
    "import skimage\n",
    "from skimage import io"
   ]
  },
  {
   "cell_type": "markdown",
   "metadata": {
    "id": "hIRJyQRrVqFM"
   },
   "source": [
    "### Question 1\n",
    "\n",
    "---\n",
    "\n",
    "Given two NumPy arrays, perform the following:\n",
    "\n",
    "* Compute the element-wise product of the two arrays.\n",
    "* Calculate the mean of each row in the resulting product array.\n",
    "* Determine the standard deviation of the row-wise means."
   ]
  },
  {
   "cell_type": "markdown",
   "metadata": {
    "id": "wBdn4vbxWV7J"
   },
   "source": [
    "Create two numpy arrays of different dimensions  "
   ]
  },
  {
   "cell_type": "code",
   "execution_count": null,
   "metadata": {
    "id": "5Nyt8esGbY4I"
   },
   "outputs": [],
   "source": [
    "arr1 = np.array([[1, 2, 3, 4],\n",
    "                [5, 6, 7, 8],\n",
    "                [9, 10, 11, 12]])\n",
    "\n",
    "arr2 = np.array([0.5, 1.5, 2, 1])"
   ]
  },
  {
   "cell_type": "markdown",
   "metadata": {
    "id": "KJpWp0JwXSRq"
   },
   "source": [
    "Print the shapes of both the numpy arrays"
   ]
  },
  {
   "cell_type": "code",
   "execution_count": null,
   "metadata": {
    "id": "GfEsqcqJXKak"
   },
   "outputs": [],
   "source": [
    "print(arr1.shape)\n",
    "print(arr2.shape)"
   ]
  },
  {
   "cell_type": "markdown",
   "metadata": {
    "id": "9FFkJ-vXXezW"
   },
   "source": [
    "Perform element-wise multiplication , compute row-wise means and then compute the standard deviation of those means"
   ]
  },
  {
   "cell_type": "code",
   "execution_count": null,
   "metadata": {
    "id": "rYOGdw3NW_Zd"
   },
   "outputs": [],
   "source": [
    "# YOUR CODE STARTS HERE\n",
    "\n",
    "scaled_arr = ____ # Broadcasting for element-wise multiplication between arr1 and arr2\n",
    "row_means = ____  # Mean across rows of scaled_arr\n",
    "std_dev_of_means = ____  # Standard deviation of row_means\n",
    "print(scaled_arr.shape)\n",
    "\n",
    "# YOUR CODE ENDS HERE"
   ]
  },
  {
   "cell_type": "markdown",
   "metadata": {
    "id": "aG1sCoacX2it"
   },
   "source": [
    "Print the row-wise means"
   ]
  },
  {
   "cell_type": "code",
   "execution_count": null,
   "metadata": {
    "id": "hWiS4GgXXELl"
   },
   "outputs": [],
   "source": [
    "print(\"Row-wise means:\", row_means)"
   ]
  },
  {
   "cell_type": "markdown",
   "metadata": {
    "id": "vY9GfzZZX_If"
   },
   "source": [
    "Print the standard deviation of the means"
   ]
  },
  {
   "cell_type": "code",
   "execution_count": null,
   "metadata": {
    "id": "SfQ3P5BUX_kw"
   },
   "outputs": [],
   "source": [
    "print(\"Standard deviation of means: %.2f\" % std_dev_of_means)"
   ]
  },
  {
   "cell_type": "markdown",
   "metadata": {
    "id": "4am-oMN1uy2Q"
   },
   "source": [
    "Q1. Which of the following options correctly provides the standard deviation of row-wise means and the row-wise means themselves?\n",
    "\n",
    "A. 1.23 , [3.875 , 8.375 , 13.575]\n",
    "\n",
    "B. 3.45 , [3.375 , 8.875 , 13.375]\n",
    "\n",
    "C. 4.08 , [3.375 , 8.375 , 13.375]\n",
    "\n",
    "D. 4.24 , [3.875 , 8.875 , 13.875]\n",
    "\n",
    "\n"
   ]
  },
  {
   "cell_type": "code",
   "execution_count": null,
   "metadata": {
    "id": "4jkU-sW2kNnD"
   },
   "outputs": [],
   "source": []
  },
  {
   "cell_type": "markdown",
   "metadata": {
    "id": "PWFnBBhpYHhD"
   },
   "source": [
    "### Question 2\n",
    "\n",
    "---\n",
    "Given a matrix A , calculate the eigenvectors and eigenvalues using Numpy Library and then find out the largest eigenvalue and corresponding eigenvector"
   ]
  },
  {
   "cell_type": "markdown",
   "metadata": {
    "id": "kGDvUiw8ajZc"
   },
   "source": [
    "Create a square matrix A using Numpy , this will be used for calculations"
   ]
  },
  {
   "cell_type": "code",
   "execution_count": null,
   "metadata": {
    "id": "H18S-b_3adFd"
   },
   "outputs": [],
   "source": [
    "A = np.array([[2, 1, -1],\n",
    "              [1, 3, 1],\n",
    "              [-1, 1, 4]])"
   ]
  },
  {
   "cell_type": "markdown",
   "metadata": {
    "id": "cEk2q_2za1RR"
   },
   "source": [
    "Print the shape of the matrix"
   ]
  },
  {
   "cell_type": "code",
   "execution_count": null,
   "metadata": {
    "id": "AOSFeto3az4M"
   },
   "outputs": [],
   "source": [
    "print(A.shape)"
   ]
  },
  {
   "cell_type": "markdown",
   "metadata": {
    "id": "nmAXq0PMbMkc"
   },
   "source": [
    "Calculate eigenvalues and eigenvalues of the matrix A and extract the largest eigenvalue and corresponding eigenvalue"
   ]
  },
  {
   "cell_type": "code",
   "execution_count": null,
   "metadata": {
    "id": "Nh9vUqTVerM_"
   },
   "outputs": [],
   "source": [
    "# YOUR CODE STARTS HERE\n",
    "\n",
    "eigenvalues, eigenvectors = ____ # Calculate eigenvalues and eigenvectors of A\n",
    "max_eigenvalue_index = ____  # Find index of largest eigenvalue\n",
    "largest_eigenvalue = ____ # Get largest eigenvalue and corresponding eigenvector\n",
    "largest_eigenvector = ____ # Extract column\n",
    "\n",
    "# YOUR CODE ENDS HERE"
   ]
  },
  {
   "cell_type": "markdown",
   "metadata": {
    "id": "haAy_Z_gb6rU"
   },
   "source": [
    "Print the eigenvalues"
   ]
  },
  {
   "cell_type": "code",
   "execution_count": null,
   "metadata": {
    "id": "_7dHobXucE5K"
   },
   "outputs": [],
   "source": [
    "print(\"Eigenvalues\" , eigenvalues)"
   ]
  },
  {
   "cell_type": "markdown",
   "metadata": {
    "id": "9xGcUAcUb6ph"
   },
   "source": [
    "Print the eigenvectors"
   ]
  },
  {
   "cell_type": "code",
   "execution_count": null,
   "metadata": {
    "id": "O7lAcsF5cHkA"
   },
   "outputs": [],
   "source": [
    "print(\"Eigenvectors\" , eigenvectors)"
   ]
  },
  {
   "cell_type": "markdown",
   "metadata": {
    "id": "LTt5QS0xcIDc"
   },
   "source": [
    "Print the largest eigenvalue"
   ]
  },
  {
   "cell_type": "code",
   "execution_count": null,
   "metadata": {
    "id": "WGqtAGmBcKa_"
   },
   "outputs": [],
   "source": [
    "print(\"Largest Eigenvalue:\", largest_eigenvalue)"
   ]
  },
  {
   "cell_type": "markdown",
   "metadata": {
    "id": "UPEh3x-8cKtA"
   },
   "source": [
    "Print the largest eigenvector"
   ]
  },
  {
   "cell_type": "code",
   "execution_count": null,
   "metadata": {
    "id": "fVcW0I9obBtT"
   },
   "outputs": [],
   "source": [
    "print(\"Corresponding Eigenvector:\", largest_eigenvector)"
   ]
  },
  {
   "cell_type": "markdown",
   "metadata": {
    "id": "5rRJ3_czxHaY"
   },
   "source": [
    "\n",
    "Q2. Which of the following pairs represents the largest eigenvalue and its corresponding eigenvector?\n",
    "\n",
    "A. Eigenvalue: 0.78568026, Eigenvector:\n",
    "$$\n",
    "\\begin{bmatrix}\n",
    "-0.75578934 \\\\\n",
    "0.52065737 \\\\\n",
    "-0.39711255\n",
    "\\end{bmatrix}\n",
    "$$\n",
    "\n",
    "B. Eigenvalue: 3.53918887, Eigenvector:\n",
    "$$\n",
    "\\begin{bmatrix}\n",
    "0.63178128 \\\\\n",
    "0.73923874 \\\\\n",
    "-0.23319198\n",
    "\\end{bmatrix}\n",
    "$$\n",
    "\n",
    "C. Eigenvalue: 4.67513087, Eigenvector:\n",
    "$$\n",
    "\\begin{bmatrix}\n",
    "-0.17214786 \\\\\n",
    "0.42713229 \\\\\n",
    "0.88765034\n",
    "\\end{bmatrix}\n",
    "$$\n",
    "\n",
    "D. Eigenvalue: 4.67513087, Eigenvector:\n",
    "$$\n",
    "\\begin{bmatrix}\n",
    "-0.75578934 \\\\\n",
    "0.52065737 \\\\\n",
    "-0.39711255\n",
    "\\end{bmatrix}\n",
    "$$\n",
    "\n"
   ]
  },
  {
   "cell_type": "markdown",
   "metadata": {
    "id": "JhefayD3ciCG"
   },
   "source": [
    "### Question 3\n",
    "Given a function definition , implement it using Numpy and apply it on a list and perform operations"
   ]
  },
  {
   "cell_type": "markdown",
   "metadata": {
    "id": "W86y1Xk1oljh"
   },
   "source": [
    "Create the input list to perform operations on"
   ]
  },
  {
   "cell_type": "code",
   "execution_count": null,
   "metadata": {
    "id": "7jblD3HbokDg"
   },
   "outputs": [],
   "source": [
    "input_list = [-7, -5.2, -1, -1.5, 0.3]"
   ]
  },
  {
   "cell_type": "markdown",
   "metadata": {
    "id": "jqTHOXEoqwIi"
   },
   "source": [
    "Print the list"
   ]
  },
  {
   "cell_type": "code",
   "execution_count": null,
   "metadata": {
    "id": "tLTRhfHDqzX_"
   },
   "outputs": [],
   "source": [
    "print(\"Original list:\", input_list)"
   ]
  },
  {
   "cell_type": "markdown",
   "metadata": {
    "id": "xFUwECUnoscU"
   },
   "source": [
    "Use Numpy to define the function:\n",
    "$$ f(x) = \\frac{1}{1 + e^{-x}} $$\n",
    "Then apply this function to all elements of the input list and then sum the elements of the new list\n"
   ]
  },
  {
   "cell_type": "code",
   "execution_count": null,
   "metadata": {
    "id": "LQw-t_oWekRi"
   },
   "outputs": [],
   "source": [
    "# YOUR CODE STARTS HERE\n",
    "\n",
    "def function(x): # Define the function\n",
    "    return _____\n",
    "\n",
    "modified_list = ____ # Apply function to list\n",
    "\n",
    "sum_modified = ____ # Step 4: Sum the values of modified list\n",
    "\n",
    "# YOUR CODE ENDS HERE"
   ]
  },
  {
   "cell_type": "markdown",
   "metadata": {
    "id": "a3I03nW7rCPi"
   },
   "source": [
    "Print the modified list"
   ]
  },
  {
   "cell_type": "code",
   "execution_count": null,
   "metadata": {
    "id": "IKEBrN9Oq3bq"
   },
   "outputs": [],
   "source": [
    "print(\"Sigmoided list:\", modified_list)"
   ]
  },
  {
   "cell_type": "markdown",
   "metadata": {
    "id": "qSH_VBEvrCjC"
   },
   "source": [
    "Print sum of modified list"
   ]
  },
  {
   "cell_type": "code",
   "execution_count": null,
   "metadata": {
    "id": "rsFd596ZqSZu"
   },
   "outputs": [],
   "source": [
    "print(\"Sum of sigmoided values:\", sum_modified)"
   ]
  },
  {
   "cell_type": "markdown",
   "metadata": {
    "id": "ellyBMTmyqe0"
   },
   "source": [
    "Q3. Which of the following is the sum of the elements in the modfied list obtained after applying the function?\n",
    "\n",
    "A. 1.03\n",
    "\n",
    "B. 1.00\n",
    "\n",
    "C. 1.50\n",
    "\n",
    "D. 3.02\n"
   ]
  },
  {
   "cell_type": "markdown",
   "metadata": {
    "id": "D3YOKvvHzOAJ"
   },
   "source": [
    "### Question 4\n",
    "\n",
    "---\n",
    "\n",
    "\n",
    "Given a RGB image **'golden_retriever.jpg'**, convert the image into GBR image by swapping the channels."
   ]
  },
  {
   "cell_type": "markdown",
   "metadata": {
    "id": "XgW1ipJ_zXgB"
   },
   "source": [
    "\n",
    "Read the image **golden_retriever.jpg** using skimage.io.imread().  "
   ]
  },
  {
   "cell_type": "code",
   "execution_count": null,
   "metadata": {
    "id": "zB5JjB5mzF14"
   },
   "outputs": [],
   "source": [
    "img1 = io.imread('golden_retriever.jpg')"
   ]
  },
  {
   "cell_type": "markdown",
   "metadata": {
    "id": "zRXuTqO6z8Aa"
   },
   "source": [
    "Print the shape of the image."
   ]
  },
  {
   "cell_type": "code",
   "execution_count": null,
   "metadata": {
    "id": "SkHDzM1Z0BbX"
   },
   "outputs": [],
   "source": [
    "img1.shape"
   ]
  },
  {
   "cell_type": "markdown",
   "metadata": {
    "id": "yxpbh0rC0H6c"
   },
   "source": [
    "Slice each of the R,G and B channels into repective variables and stack the channels as GBR and store it in variable img_new"
   ]
  },
  {
   "cell_type": "code",
   "execution_count": null,
   "metadata": {
    "id": "kL7WRI1I0IgN"
   },
   "outputs": [],
   "source": [
    "# YOUR CODE STARTS HERE\n",
    "\n",
    "r_img = ____\n",
    "g_img = ____\n",
    "b_img = ____\n",
    "img_new = ____\n",
    "img_new.shape\n",
    "\n",
    "# YOUR CODE ENDS HERE"
   ]
  },
  {
   "cell_type": "markdown",
   "metadata": {
    "id": "xrgAfhVN0M9X"
   },
   "source": [
    "Plot the original RGB image"
   ]
  },
  {
   "cell_type": "code",
   "execution_count": null,
   "metadata": {
    "id": "9-zSh1XL0O4C"
   },
   "outputs": [],
   "source": [
    "plt.imshow(img1)"
   ]
  },
  {
   "cell_type": "markdown",
   "metadata": {
    "id": "PfMh9C420SMp"
   },
   "source": [
    "Plot the GBR image"
   ]
  },
  {
   "cell_type": "code",
   "execution_count": null,
   "metadata": {
    "id": "NxBQXnoD0ULK"
   },
   "outputs": [],
   "source": [
    "plt.imshow(img_new)"
   ]
  },
  {
   "cell_type": "markdown",
   "metadata": {
    "id": "9H1rVSbNma5o"
   },
   "source": [
    "Q4. which of the following is the GBR representation of the RGB image\n",
    "‘golden retriever.jpg’ (Refer the mcq page for options)\n",
    "\n"
   ]
  },
  {
   "cell_type": "markdown",
   "metadata": {
    "id": "K2p51IIB6FDv"
   },
   "source": [
    "### Question 5\n",
    "\n",
    "---\n",
    "Apply a 5x5 mean filter on the human_mitosis image provided by skimage.data . What is the dimension of the output image after applying the 5x5 filter."
   ]
  },
  {
   "cell_type": "markdown",
   "metadata": {
    "id": "acM6L9HX6KzV"
   },
   "source": [
    "Read the human_mitosis image from skimage.data"
   ]
  },
  {
   "cell_type": "code",
   "execution_count": null,
   "metadata": {
    "id": "0ydSo50T6H5o"
   },
   "outputs": [],
   "source": [
    "img2 = skimage.data.human_mitosis()"
   ]
  },
  {
   "cell_type": "markdown",
   "metadata": {
    "id": "V8yfYGtL6Qcn"
   },
   "source": [
    "Print the shape of the image"
   ]
  },
  {
   "cell_type": "code",
   "execution_count": null,
   "metadata": {
    "id": "1dlzvW-H6Nfm"
   },
   "outputs": [],
   "source": [
    "img2.shape"
   ]
  },
  {
   "cell_type": "markdown",
   "metadata": {
    "id": "QQ0B8Cus6ViT"
   },
   "source": [
    "Plot the image"
   ]
  },
  {
   "cell_type": "code",
   "execution_count": null,
   "metadata": {
    "id": "vpKMi-iY6S5U"
   },
   "outputs": [],
   "source": [
    "plt.imshow(img2,cmap='gray')"
   ]
  },
  {
   "cell_type": "markdown",
   "metadata": {
    "id": "vquGfVJ16b0H"
   },
   "source": [
    "Apply a mean filter of with a filter_size of 5x5 on img2."
   ]
  },
  {
   "cell_type": "code",
   "execution_count": null,
   "metadata": {
    "id": "mH6itfif6cNk"
   },
   "outputs": [],
   "source": [
    "# YOUR CODE STARTS HERE\n",
    "\n",
    "____\n",
    "\n",
    "# YOUR CODE ENDS HERE"
   ]
  },
  {
   "cell_type": "markdown",
   "metadata": {
    "id": "azFLi9yQ6ckC"
   },
   "source": [
    "Print the shape of output image"
   ]
  },
  {
   "cell_type": "code",
   "execution_count": null,
   "metadata": {
    "id": "iKA86PT_6c7L"
   },
   "outputs": [],
   "source": [
    "# YOUR CODE STARTS HERE\n",
    "\n",
    "____\n",
    "\n",
    "# YOUR CODE ENDS HERE"
   ]
  },
  {
   "cell_type": "markdown",
   "metadata": {
    "id": "ZIdMcwYKm5Sv"
   },
   "source": [
    "Q5. The shape of the human_mitosis image after applying a $5 \\times 5$ mean filter is:\n",
    "\n",
    "A. (512,512)\n",
    "\n",
    "B. (510,510)\n",
    "\n",
    "C. (508,508)\n",
    "\n",
    "D. (507,507)"
   ]
  },
  {
   "cell_type": "markdown",
   "metadata": {
    "id": "mqAHXVJn6wVE"
   },
   "source": [
    "### Question 6\n",
    "For the output image obtained in Question 2, find the median value of the image before and after applying the mean filter?"
   ]
  },
  {
   "cell_type": "markdown",
   "metadata": {
    "id": "_MO76I-X6zX3"
   },
   "source": [
    "Print the median value of the human_mitosis image before applying the mean filter"
   ]
  },
  {
   "cell_type": "code",
   "execution_count": null,
   "metadata": {
    "id": "B1kJfMIn6ydw"
   },
   "outputs": [],
   "source": [
    "# YOUR CODE STARTS HERE\n",
    "\n",
    "____\n",
    "\n",
    "# YOUR CODE ENDS HERE"
   ]
  },
  {
   "cell_type": "markdown",
   "metadata": {
    "id": "kIkMqT3F69VY"
   },
   "source": [
    "Print the median value of the human_mitosis image after applying the mean filter"
   ]
  },
  {
   "cell_type": "code",
   "execution_count": null,
   "metadata": {
    "id": "0splqZr066ej"
   },
   "outputs": [],
   "source": [
    "# YOUR CODE STARTS HERE\n",
    "\n",
    "____\n",
    "\n",
    "# YOUR CODE ENDS HERE"
   ]
  },
  {
   "cell_type": "markdown",
   "metadata": {
    "id": "4he7tFTTnUwd"
   },
   "source": [
    "The median value of the human_mitosis image  before and after applying the $5 \\times 5$ mean filter is ____ and ____ respectively."
   ]
  }
 ],
 "metadata": {
  "colab": {
   "provenance": []
  },
  "kernelspec": {
   "display_name": "Python 3 (ipykernel)",
   "language": "python",
   "name": "python3"
  },
  "language_info": {
   "codemirror_mode": {
    "name": "ipython",
    "version": 3
   },
   "file_extension": ".py",
   "mimetype": "text/x-python",
   "name": "python",
   "nbconvert_exporter": "python",
   "pygments_lexer": "ipython3",
   "version": "3.12.2"
  }
 },
 "nbformat": 4,
 "nbformat_minor": 4
}
